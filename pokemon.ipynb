{
 "cells": [
  {
   "cell_type": "markdown",
   "metadata": {},
   "source": [
    "# HOUM Challenge\n",
    "\n",
    "## Requerimientos:\n",
    "• Para responder las preguntas deberás hacer uso de la PokéAPI (https://pokeapi.co/).\n",
    "\n",
    "• Cada pregunta debe ser respondida entregando una función Python, que luego de ser ejecutada debe entregar la respuesta exacta a la pregunta.\n",
    "\n",
    "• Asegúrate de incluir librerías que hayas utilizado en el archivo de requerimientos del proyecto y agregar los “imports” necesarios.\n",
    "\n",
    "• Es importante que todos los procesos que escribas sean lo más e�cientes posible y que el código sea calidad de producción. Muestranos todos tus           conocimientos de Python y de buenas prácticas de Software."
   ]
  },
  {
   "cell_type": "markdown",
   "metadata": {},
   "source": [
    "## Instrucciones:"
   ]
  },
  {
   "cell_type": "markdown",
   "metadata": {},
   "source": [
    "## 1 . Obtén cuantos pokemones poseen en sus nombres “at” y tienen 2 “a” en su nombre, incluyendo la primera del “at”. Tu respuesta debe ser un número."
   ]
  },
  {
   "cell_type": "code",
   "execution_count": 57,
   "metadata": {},
   "outputs": [],
   "source": [
    "import requests\n",
    "import json\n",
    "counter = 0\n",
    "if __name__ == '__main__':\n",
    "    url = 'https://pokeapi.co/api/v2/pokemon?limit=1128'\n",
    "\n",
    "    response = requests.get(url)\n",
    "    if response.status_code == 200:\n",
    "        data = response.json()\n",
    "        results = data.get('results', [])\n",
    "        if results: \n",
    "            for pokemon in results:\n",
    "                \n",
    "                names = (pokemon.get('name'))\n",
    "                aaList = names.count('a')\n",
    "                if aaList == 2:\n",
    "                        subs = 'at'\n",
    "                        \n",
    "                        if subs in names:\n",
    "                            \n",
    "                            counter = counter + 1\n",
    "                            #print (names)\n",
    "    else :\n",
    "        print('Error: {}'.format(response.status_code))\n"
   ]
  },
  {
   "cell_type": "markdown",
   "metadata": {},
   "source": [
    "#### La respuesta al primer ejercicio :"
   ]
  },
  {
   "cell_type": "code",
   "execution_count": 51,
   "metadata": {},
   "outputs": [
    {
     "name": "stdout",
     "output_type": "stream",
     "text": [
      "14\n"
     ]
    }
   ],
   "source": [
    "print (counter)"
   ]
  },
  {
   "cell_type": "markdown",
   "metadata": {},
   "source": [
    "## 2 ¿Con cuántas especies de pokémon puede procrear raichu? (2 Pokémon pueden procrear si están dentro del mismo egg group). Tu respuesta debe ser un número. Recuerda eliminar los duplicados.\n"
   ]
  },
  {
   "cell_type": "code",
   "execution_count": 56,
   "metadata": {},
   "outputs": [],
   "source": [
    "counter2 = 0\n",
    "url2 = 'https://pokeapi.co/api/v2/egg-group/5/'\n",
    "response2 = requests.get(url2)\n",
    "if response2.status_code == 200:\n",
    "    data2 = response2.json()\n",
    "    results2 = data2.get('pokemon_species', [])\n",
    "    if results2: \n",
    "        for pokemon2 in results2:\n",
    "            \n",
    "            names2 = (pokemon2.get('name'))\n",
    "            if names2 != 'raichu':\n",
    "                #print (names2)\n",
    "                counter2 = counter2 + 1\n",
    "\n"
   ]
  },
  {
   "cell_type": "markdown",
   "metadata": {},
   "source": [
    "#### La respuesta al segundo ejercicio :"
   ]
  },
  {
   "cell_type": "code",
   "execution_count": 55,
   "metadata": {},
   "outputs": [
    {
     "name": "stdout",
     "output_type": "stream",
     "text": [
      "243\n"
     ]
    }
   ],
   "source": [
    "print (counter2)"
   ]
  },
  {
   "cell_type": "markdown",
   "metadata": {},
   "source": [
    "# 3 Entrega el máximo y mínimo peso de los pokémon de tipo fighting de primera generación (cuyo id sea menor o igual a 151). Tu respuesta debe ser una lista con el siguiente formato: [1234, 12], en donde 1234 corresponde al máximo peso y 12 al mínimo\n"
   ]
  },
  {
   "cell_type": "code",
   "execution_count": null,
   "metadata": {},
   "outputs": [],
   "source": []
  }
 ],
 "metadata": {
  "interpreter": {
   "hash": "c98e8148784b85c82351fd662f25e5305296b21c377d1765aaabf81e2e1c3372"
  },
  "kernelspec": {
   "display_name": "Python 3.10.4 64-bit",
   "language": "python",
   "name": "python3"
  },
  "language_info": {
   "codemirror_mode": {
    "name": "ipython",
    "version": 3
   },
   "file_extension": ".py",
   "mimetype": "text/x-python",
   "name": "python",
   "nbconvert_exporter": "python",
   "pygments_lexer": "ipython3",
   "version": "3.10.4"
  },
  "orig_nbformat": 4
 },
 "nbformat": 4,
 "nbformat_minor": 2
}
